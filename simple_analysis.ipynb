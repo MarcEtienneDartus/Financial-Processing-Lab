{
  "nbformat": 4,
  "nbformat_minor": 0,
  "metadata": {
    "colab": {
      "name": "simple_analysis.ipynb",
      "provenance": []
    },
    "kernelspec": {
      "name": "python3",
      "display_name": "Python 3"
    }
  },
  "cells": [
    {
      "cell_type": "markdown",
      "metadata": {
        "id": "B5gqpcE4RQ3N",
        "colab_type": "text"
      },
      "source": [
        "# Analyses simples avec python\n",
        "Pour notre étude nous allons utiliser les retours journaliers d’un stock du marché américain.\n",
        "Nous allons mettre en place, grapher et calculer quelques données afin de nous familiariser avec Python."
      ]
    },
    {
      "cell_type": "markdown",
      "metadata": {
        "id": "t-vg80z7RY0Z",
        "colab_type": "text"
      },
      "source": [
        "\n",
        "## Bibliothèques\n"
      ]
    },
    {
      "cell_type": "code",
      "metadata": {
        "id": "8Oesb78IRcvp",
        "colab_type": "code",
        "colab": {}
      },
      "source": [
        "import pandas as pd\n",
        "import datetime\n",
        "import pandas_datareader.data as web\n",
        "from pandas import Series, DataFrame\n",
        "import matplotlib.pyplot as plt\n",
        "from matplotlib import style\n",
        "import matplotlib as mpl\n",
        "import numpy as np"
      ],
      "execution_count": 0,
      "outputs": []
    },
    {
      "cell_type": "markdown",
      "metadata": {
        "id": "uyDJM0okRaV-",
        "colab_type": "text"
      },
      "source": [
        "## Fonctions utilisées\n",
        "\n",
        "- Pour les dates : `datetime()`\n",
        "- Pour récupérer les données : `web.DataReader()`\n",
        "- Pour calculer les returns : `pct_change()`\n"
      ]
    },
    {
      "cell_type": "markdown",
      "metadata": {
        "id": "KEz3ubhfRgCv",
        "colab_type": "text"
      },
      "source": [
        "## Exercices\n",
        "\n"
      ]
    },
    {
      "cell_type": "markdown",
      "metadata": {
        "id": "qMN6t4NQRmym",
        "colab_type": "text"
      },
      "source": [
        "1.\tRécupérer les prix de fermetures"
      ]
    },
    {
      "cell_type": "code",
      "metadata": {
        "id": "05bbfzreRmQ1",
        "colab_type": "code",
        "colab": {}
      },
      "source": [
        ""
      ],
      "execution_count": 0,
      "outputs": []
    },
    {
      "cell_type": "markdown",
      "metadata": {
        "id": "6kZjrG_RRrR_",
        "colab_type": "text"
      },
      "source": [
        "2.\tCalculer les retours journaliers\n"
      ]
    },
    {
      "cell_type": "code",
      "metadata": {
        "id": "W_3YI9UoRsb4",
        "colab_type": "code",
        "colab": {}
      },
      "source": [
        ""
      ],
      "execution_count": 0,
      "outputs": []
    },
    {
      "cell_type": "markdown",
      "metadata": {
        "id": "uXITUU7vRsrK",
        "colab_type": "text"
      },
      "source": [
        "3.\tAfficher les retours journaliers sur un graph\n"
      ]
    },
    {
      "cell_type": "code",
      "metadata": {
        "id": "a61e1oriRuJ0",
        "colab_type": "code",
        "colab": {}
      },
      "source": [
        ""
      ],
      "execution_count": 0,
      "outputs": []
    },
    {
      "cell_type": "markdown",
      "metadata": {
        "id": "yHKs-diSRucg",
        "colab_type": "text"
      },
      "source": [
        "4.\tCalculer les retours mensuels"
      ]
    },
    {
      "cell_type": "code",
      "metadata": {
        "id": "nFZaTj8tRvW9",
        "colab_type": "code",
        "colab": {}
      },
      "source": [
        ""
      ],
      "execution_count": 0,
      "outputs": []
    },
    {
      "cell_type": "markdown",
      "metadata": {
        "id": "eU7KvRHnRvrr",
        "colab_type": "text"
      },
      "source": [
        "\n",
        "5.\tAfficher les retours mensuels sur un graph"
      ]
    },
    {
      "cell_type": "code",
      "metadata": {
        "id": "XsR91eGbRwQE",
        "colab_type": "code",
        "colab": {}
      },
      "source": [
        ""
      ],
      "execution_count": 0,
      "outputs": []
    },
    {
      "cell_type": "markdown",
      "metadata": {
        "id": "hlbbvfIORjne",
        "colab_type": "text"
      },
      "source": [
        "## Questions\n",
        "- Quelle est son return journalier moyen ?\n",
        "\n",
        "\n",
        "> Réponse :\n",
        "\n",
        "\n",
        "- Quel est l’écart-type de son return journalier ?\n",
        "\n",
        "\n",
        "> Réponse :\n",
        "\n",
        "\n",
        "- Le signal semble-t-il périodique ?\n",
        "\n",
        "\n",
        "> Réponse :\n",
        "\n"
      ]
    }
  ]
}