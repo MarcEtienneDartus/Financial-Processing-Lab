{
  "nbformat": 4,
  "nbformat_minor": 0,
  "metadata": {
    "colab": {
      "name": "spectral analysis.ipynb",
      "provenance": []
    },
    "kernelspec": {
      "name": "python3",
      "display_name": "Python 3"
    }
  },
  "cells": [
    {
      "cell_type": "markdown",
      "metadata": {
        "id": "WVhQj70-TIqX",
        "colab_type": "text"
      },
      "source": [
        "#Analyse spectrale d’un signal"
      ]
    },
    {
      "cell_type": "markdown",
      "metadata": {
        "id": "fmBv1KdsSoso",
        "colab_type": "text"
      },
      "source": [
        "## Bibliothèques utilisées :"
      ]
    },
    {
      "cell_type": "code",
      "metadata": {
        "id": "aXEOso_gTBAi",
        "colab_type": "code",
        "colab": {}
      },
      "source": [
        "import math \n",
        "import numpy as np \n",
        "from matplotlib.pyplot import * \n",
        "from numpy.fft import fft"
      ],
      "execution_count": 0,
      "outputs": []
    },
    {
      "cell_type": "markdown",
      "metadata": {
        "id": "sA26wMeHTEzd",
        "colab_type": "text"
      },
      "source": [
        "## Exercices :"
      ]
    },
    {
      "cell_type": "markdown",
      "metadata": {
        "id": "1BgFGJH5S68_",
        "colab_type": "text"
      },
      "source": [
        "### Question 1 : \n",
        "Pour ce td nous aurons besoin d’un signal signal périodique, pour pouvoir avoir les mêmes résultats nous allons définir ce signal comme ceci : \n",
        "```\n",
        "0.2 + 2 * cos(2*pi*t) + cos(3*2*pi*t) + 0.5*sin(4*2*pi*t) + 0.25*sin(5*2*pi*t)\n",
        "```"
      ]
    },
    {
      "cell_type": "code",
      "metadata": {
        "id": "xw9uBth0S6AR",
        "colab_type": "code",
        "colab": {}
      },
      "source": [
        ""
      ],
      "execution_count": 0,
      "outputs": []
    },
    {
      "cell_type": "markdown",
      "metadata": {
        "id": "5fMTYwk8S15_",
        "colab_type": "text"
      },
      "source": [
        "### Question 2 :\n",
        "Échantillonner le signal : le choix de l'origine du temps est sans importance | La fréquence d'échantillonnage soit être supérieure au double de la plus grande fréquence du signal, ici 5 donc supérieure à 10."
      ]
    },
    {
      "cell_type": "code",
      "metadata": {
        "id": "m3bZddB3S2nF",
        "colab_type": "code",
        "colab": {}
      },
      "source": [
        ""
      ],
      "execution_count": 0,
      "outputs": []
    },
    {
      "cell_type": "markdown",
      "metadata": {
        "id": "GislDDKcSzJI",
        "colab_type": "text"
      },
      "source": [
        "### Question 3 :\n",
        "Faites la transformée de Fourier de ce signal échantillonné, pour cela utiliser la fonction fft."
      ]
    },
    {
      "cell_type": "code",
      "metadata": {
        "id": "D1YQ5nfYS0al",
        "colab_type": "code",
        "colab": {}
      },
      "source": [
        ""
      ],
      "execution_count": 0,
      "outputs": []
    },
    {
      "cell_type": "markdown",
      "metadata": {
        "id": "EdkGqQ--SwK2",
        "colab_type": "text"
      },
      "source": [
        "### Question 4 :\n",
        "Observez le résultat en affichant le spectre de ce signal. "
      ]
    },
    {
      "cell_type": "code",
      "metadata": {
        "id": "aVm3eoqFSxLt",
        "colab_type": "code",
        "colab": {}
      },
      "source": [
        ""
      ],
      "execution_count": 0,
      "outputs": []
    },
    {
      "cell_type": "markdown",
      "metadata": {
        "id": "SpA03tkZStFY",
        "colab_type": "text"
      },
      "source": [
        "### Question 5 :\n",
        "Pourquoi n’avons-nous pas fait de DSF sur des données financière ?"
      ]
    },
    {
      "cell_type": "code",
      "metadata": {
        "id": "eJG3bLvOStyd",
        "colab_type": "code",
        "colab": {}
      },
      "source": [
        ""
      ],
      "execution_count": 0,
      "outputs": []
    }
  ]
}