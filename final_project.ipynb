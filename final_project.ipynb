{
  "nbformat": 4,
  "nbformat_minor": 0,
  "metadata": {
    "colab": {
      "name": "final_project.ipynb",
      "provenance": []
    },
    "kernelspec": {
      "name": "python3",
      "display_name": "Python 3"
    }
  },
  "cells": [
    {
      "cell_type": "markdown",
      "metadata": {
        "id": "99NYDPSPWXH4",
        "colab_type": "text"
      },
      "source": [
        "# Projet final appliqué à la Finance"
      ]
    },
    {
      "cell_type": "markdown",
      "metadata": {
        "id": "KUaJnAbkWTm5",
        "colab_type": "text"
      },
      "source": [
        "## Description du projet\n",
        "\n",
        "Après la crise financière due au coronavirus, JP Morgan a vu le prix de son action passer de 138 dollars à 79 dollars par part.\n",
        "En vous basant sur les données de 1998 à aujourd’hui rédiger un programme permettant à JP Morgan d’évalué son nouvel ES ( expected shortfall ), puis tracer l’évolution de l’ES de JP Morgan en fonction du temps.\n",
        "Retirer les fluctuations afin de tirer une tendance de l’ES, l’avenir semble t’il plus ou moins volatile.\n",
        "Quelles périodes particulière avez-vous remarquées lors de votre étude. \n",
        "\n",
        "> **ES :** La moyenne des returns inferieur à  la VaR\n",
        "\n",
        "> **VaR :** Le montant de pertes qui ne devrait être dépassé avec une probabilité donnée sur un horizon temporel donné.\n",
        "Pour notre étude nous utiliserons la VaR 99% sur 20 jours."
      ]
    },
    {
      "cell_type": "markdown",
      "metadata": {
        "id": "WDf1G9cQWiLb",
        "colab_type": "text"
      },
      "source": [
        "## Les grandes étapes\n"
      ]
    },
    {
      "cell_type": "markdown",
      "metadata": {
        "id": "_e0vvs5yWjv0",
        "colab_type": "text"
      },
      "source": [
        "1. Récupérer les returns"
      ]
    },
    {
      "cell_type": "code",
      "metadata": {
        "id": "LhOYjOKuWlPf",
        "colab_type": "code",
        "colab": {}
      },
      "source": [
        ""
      ],
      "execution_count": 0,
      "outputs": []
    },
    {
      "cell_type": "markdown",
      "metadata": {
        "id": "O1gz1uYZWlse",
        "colab_type": "text"
      },
      "source": [
        "2. Calculer la VaR 99% ( sur les 20 dernier jours)"
      ]
    },
    {
      "cell_type": "code",
      "metadata": {
        "id": "auKxaZZrWoGv",
        "colab_type": "code",
        "colab": {}
      },
      "source": [
        ""
      ],
      "execution_count": 0,
      "outputs": []
    },
    {
      "cell_type": "markdown",
      "metadata": {
        "id": "teUxFbRQWoRU",
        "colab_type": "text"
      },
      "source": [
        "3. Calculer l’ES de cette année"
      ]
    },
    {
      "cell_type": "code",
      "metadata": {
        "id": "0BMfhD0xWrRE",
        "colab_type": "code",
        "colab": {}
      },
      "source": [
        ""
      ],
      "execution_count": 0,
      "outputs": []
    },
    {
      "cell_type": "markdown",
      "metadata": {
        "id": "uer21_zOWras",
        "colab_type": "text"
      },
      "source": [
        "4. Récupérer les VaR 99% (sur 20 jours depuis 1998)"
      ]
    },
    {
      "cell_type": "code",
      "metadata": {
        "id": "YkH9N47ZWtAp",
        "colab_type": "code",
        "colab": {}
      },
      "source": [
        ""
      ],
      "execution_count": 0,
      "outputs": []
    },
    {
      "cell_type": "markdown",
      "metadata": {
        "id": "9MenUpAPWtJq",
        "colab_type": "text"
      },
      "source": [
        "5. Récupérer les ES depuis 1998\n"
      ]
    },
    {
      "cell_type": "code",
      "metadata": {
        "id": "eb1DgAneWuo-",
        "colab_type": "code",
        "colab": {}
      },
      "source": [
        ""
      ],
      "execution_count": 0,
      "outputs": []
    },
    {
      "cell_type": "markdown",
      "metadata": {
        "id": "Qj6gwK4cWuwU",
        "colab_type": "text"
      },
      "source": [
        "6. Tracer la courbe de l’ES depuis 1998\n"
      ]
    },
    {
      "cell_type": "code",
      "metadata": {
        "id": "WehGWFn-WwJl",
        "colab_type": "code",
        "colab": {}
      },
      "source": [
        ""
      ],
      "execution_count": 0,
      "outputs": []
    },
    {
      "cell_type": "markdown",
      "metadata": {
        "id": "MJ8A5UYNWwXA",
        "colab_type": "text"
      },
      "source": [
        "7. Débruiter cette courbe\n"
      ]
    },
    {
      "cell_type": "code",
      "metadata": {
        "id": "Wb-wtrZ8WyFZ",
        "colab_type": "code",
        "colab": {}
      },
      "source": [
        ""
      ],
      "execution_count": 0,
      "outputs": []
    },
    {
      "cell_type": "markdown",
      "metadata": {
        "id": "Y3AMUQHTWyUf",
        "colab_type": "text"
      },
      "source": [
        "8. En tirer une tendance\n"
      ]
    },
    {
      "cell_type": "code",
      "metadata": {
        "id": "8gC-jBWzW1EL",
        "colab_type": "code",
        "colab": {}
      },
      "source": [
        ""
      ],
      "execution_count": 0,
      "outputs": []
    },
    {
      "cell_type": "markdown",
      "metadata": {
        "id": "7n4hX4XHW1a0",
        "colab_type": "text"
      },
      "source": [
        "9. Observer et conclure"
      ]
    },
    {
      "cell_type": "code",
      "metadata": {
        "id": "MfTLRshpW159",
        "colab_type": "code",
        "colab": {}
      },
      "source": [
        ""
      ],
      "execution_count": 0,
      "outputs": []
    }
  ]
}