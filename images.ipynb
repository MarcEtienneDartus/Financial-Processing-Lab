{
  "nbformat": 4,
  "nbformat_minor": 0,
  "metadata": {
    "colab": {
      "name": "image.ipynb",
      "provenance": [],
      "collapsed_sections": []
    },
    "kernelspec": {
      "name": "python3",
      "display_name": "Python 3"
    }
  },
  "cells": [
    {
      "cell_type": "markdown",
      "metadata": {
        "id": "o9eKwzoKoOCi",
        "colab_type": "text"
      },
      "source": [
        "# FFT, DFT et Filtres appliqués aux images"
      ]
    },
    {
      "cell_type": "markdown",
      "metadata": {
        "id": "I72k1FiB27np",
        "colab_type": "text"
      },
      "source": [
        "## Lecture préambule\n",
        "\n",
        "Attention, étant donné que nous travaillons avec une image, nous n'utiliserons pas une simple fft mais une fft 2-Dimensions.\n",
        "\n",
        "Voici des explications sur l'utilisation de la fonction ```fft(a,n)``` de ```numpy``` :\n",
        "\n",
        "La DFT (Discret Fourier Transform) est en général défini pour les entrées et les sorties complexes, c'est un composant à fréquence unique à la fréquence linéaire f qui est représenté par un exponentiel complexe am=exp{2πifmΔt}, où Δt est l’intervalle pour l’échantillonnage.\n",
        "\n",
        "\n",
        "Voici les fonctions fft de Numpy et les valeurs dans le résultat :\n",
        "\n",
        "- A=fft(a,n)\n",
        "  - A[0] contient le terme de fréquence zéro qui est la moyenne du signal. Il est toujours purement réel pour les entrées réelles.\n",
        "  -A[1:n/2] contient les termes de fréquence positive.\n",
        "  -A[n/2+1:] contient les termes de fréquence négative dans l’ordre de fréquence négative décroissante\n",
        "  -A[n/2] représente la fréquence Nyquist positive et négative pour un nombre pair de points d’entrée. Il est également purement réel pour l’entrée réelle.\n",
        "  -A[(n−1)/2] contient la plus grande fréquence positive pour un nombre impair de points d’entrée.\n",
        "  -A[(n+1)/2] contient la plus grande fréquence négative.\n",
        "- fftfreq(n)\n",
        "retourne un tableau donnant les fréquences des éléments correspondants dans la sortie.\n",
        "- fftshift(A)\n",
        "transforme les décalages et leurs fréquences pour placer les composants à fréquence zéro au milieu.\n",
        "- ifftshift(A)\n",
        "Inverse de fftshift(A).\n",
        "\n",
        "\n",
        "Quand a est un signal temporel, on a dans A=fft(a):\n",
        "\n",
        "1. abs(A) : l'amplitude du spectre\n",
        "2. {abs(A)}^2 : la puissance du spectre\n",
        "3. angle(A) : la phase du spectre"
      ]
    },
    {
      "cell_type": "markdown",
      "metadata": {
        "id": "R8WvDaTvom9V",
        "colab_type": "text"
      },
      "source": [
        "# Importation"
      ]
    },
    {
      "cell_type": "code",
      "metadata": {
        "id": "bQbGBOVXz8QD",
        "colab_type": "code",
        "colab": {}
      },
      "source": [
        "import cv2\n",
        "import numpy as np\n",
        "from matplotlib import pyplot as plt\n",
        "from google.colab import files"
      ],
      "execution_count": 0,
      "outputs": []
    },
    {
      "cell_type": "markdown",
      "metadata": {},
      "source": [
        "Vous pouvez utilisez n'importe quelle image ou prendre celle avec lesquelle nous avons effectuer l'application : [image](https://qph.fs.quoracdn.net/main-raw-550078124-appwyhhxaubrsryytlrprbmqtpaxvbhc.jpeg).\n",
        "\n",
        "Pour importer l'image sur colab procodédez avec ```files.upload``` de ```google.colab```:"
      ]
    },
    {
      "cell_type": "code",
      "metadata": {
        "id": "GVTPKtgF2SKP",
        "colab_type": "code",
        "colab": {}
      },
      "source": [
        "files.upload()"
      ],
      "execution_count": 0,
      "outputs": []
    },
    {
      "cell_type": "markdown",
      "metadata": {},
      "source": [
        "ne fois l'image chargée sur colab, vous pourrez la charger sous forme de matrice grâce à la fonction suivante \n",
        "\n",
        "```python\n",
        "img = cv2.imread('The-Avengers-Logo.jpg',0)\n",
        "```\n",
        "> Remplacez le nom de l'image chargée si vous de ne travaillez pas avec 'The-Avengers-Logo.jpg'."
      ]
    },
    {
      "cell_type": "markdown",
      "metadata": {
        "id": "2UqfhxJm4fGP",
        "colab_type": "text"
      },
      "source": [
        "# Exercice 1 : Image FFT"
      ]
    },
    {
      "cell_type": "markdown",
      "metadata": {
        "id": "u8xR54a2oyme",
        "colab_type": "text"
      },
      "source": [
        "### Question 1\n",
        "\n",
        "**A faire :** Importer les donées d'une image avec les instructions données ci dessus."
      ]
    },
    {
      "cell_type": "code",
      "metadata": {
        "id": "fwP0AYyKpJyL",
        "colab_type": "code",
        "colab": {}
      },
      "source": [
        ""
      ],
      "execution_count": 0,
      "outputs": []
    },
    {
      "cell_type": "markdown",
      "metadata": {
        "id": "1GQOPZg3o10T",
        "colab_type": "text"
      },
      "source": [
        "### Question 2\n",
        "\n",
        "**A faire :** Utiliser la fonction ```fft.fft2()``` de ```numpy``` pour récupérer les données de l'image dans le domaine Fréquentiel.\n",
        "\n",
        "> Le '2' dans fft2() indique que nous utilisons fft 2 dimensions. Son premier argument est l’image d’entrée, qui est en niveaux de gris. Le second argument est optionnel et décide de la taille du tableau de sortie."
      ]
    },
    {
      "cell_type": "code",
      "metadata": {
        "id": "nhcOfPzQpKUK",
        "colab_type": "code",
        "colab": {}
      },
      "source": [
        ""
      ],
      "execution_count": 0,
      "outputs": []
    },
    {
      "cell_type": "markdown",
      "metadata": {
        "id": "ssNNdR5Do4Op",
        "colab_type": "text"
      },
      "source": [
        "### Question 3\n",
        "\n",
        "**A faire :** Penser a centrer les données autour de 0 en appliquant la fonction ```fft.fftshift()``` sur les fréquences.\n",
        "\n",
        "> Le but d'utiliser ```ffshift()``` est de placer le composant zéro fréquence au centre du spectre. En d’autres termes, une fois que nous avons obtenu le résultat, la composante de fréquence zéro (composante DC) sera dans le coin supérieur gauche. Parce que nous voulons l’amener au centre, nous devons déplacer le résultat dans les deux directions en utilisant ```np.fft.fftshift()```."
      ]
    },
    {
      "cell_type": "code",
      "metadata": {
        "id": "Vz6CsECmpK61",
        "colab_type": "code",
        "colab": {}
      },
      "source": [
        ""
      ],
      "execution_count": 0,
      "outputs": []
    },
    {
      "cell_type": "markdown",
      "metadata": {
        "id": "5piMh3Eco87w",
        "colab_type": "text"
      },
      "source": [
        "### Question 4\n",
        "\n",
        "**A faire :** Afficher les fréquences.\n",
        "\n",
        "**Question :** Que remarque-t-on quant au domaine des valeurs ?"
      ]
    },
    {
      "cell_type": "markdown",
      "metadata": {
        "id": "vN9O8laN3jMq",
        "colab_type": "text"
      },
      "source": [
        "Le '2' dans fft2() indique que nous utilisons fft 2 dimansions. Le fft2() nous fournit la transformation de fréquence qui sera un tableau complexe. Son premier argument est l’image d’entrée, qui est en niveaux de gris. \n",
        "Le second argument est optionnel et décide de la taille du tableau de sortie."
      ]
    },
    {
      "cell_type": "code",
      "metadata": {
        "id": "fyxIWtAjpLmm",
        "colab_type": "code",
        "colab": {}
      },
      "source": [
        ""
      ],
      "execution_count": 0,
      "outputs": []
    },
    {
      "cell_type": "markdown",
      "metadata": {
        "id": "g_n0bYvtpDyg",
        "colab_type": "text"
      },
      "source": [
        "### Question 5\n",
        "\n",
        "**A faire :** Calculer le spectre de magnitude.\n",
        "Afficher l'image originale et le spectre (en nuances de gris).\n",
        "\n",
        "**On donne le spectre de magnitude par la formule suivante :**\n",
        "\n",
        "```python\n",
        "magnitude_spectrum = 20*np.log(np.abs(fshift))\n",
        "```\n",
        "> Où fshift sont les fréquences centrées.\n",
        "\n",
        "\n",
        "\n",
        "**Exemple de code d'affichage des images :**\n",
        "```python\n",
        "plt.subplot(121),plt.imshow(img, cmap = 'gray')\n",
        "plt.title('Image de base'), plt.xticks([]), plt.yticks([])\n",
        "plt.subplot(122),plt.imshow(magnitude_spectrum, cmap = 'gray')\n",
        "plt.title('Spectre de Magnitude'), plt.xticks([]), plt.yticks([])\n",
        "plt.show()\n",
        "```"
      ]
    },
    {
      "cell_type": "code",
      "metadata": {
        "id": "05b36INi3rWn",
        "colab_type": "code",
        "colab": {}
      },
      "source": [
        ""
      ],
      "execution_count": 0,
      "outputs": []
    },
    {
      "cell_type": "markdown",
      "metadata": {
        "id": "ozmiTWrYpHOP",
        "colab_type": "text"
      },
      "source": [
        "### Question 6\n",
        "\n",
        "**A faire :** Calculer le spectre de magnitude sur les fréquences non centrées, et l'afficher.\n",
        "\n",
        "**Question :** Que remarque-t-on par rapport au spectre des fréquences centrées ?\n"
      ]
    },
    {
      "cell_type": "code",
      "metadata": {
        "id": "7zb5mVSM4RmF",
        "colab_type": "code",
        "colab": {}
      },
      "source": [
        ""
      ],
      "execution_count": 0,
      "outputs": []
    },
    {
      "cell_type": "markdown",
      "metadata": {
        "id": "wN8d-zBJ4hIS",
        "colab_type": "text"
      },
      "source": [
        "# Exercice2 : FFT, FFT inverse et Filtre Passe Haut"
      ]
    },
    {
      "cell_type": "markdown",
      "metadata": {
        "id": "nox5ab004l1Z",
        "colab_type": "text"
      },
      "source": [
        "Nous avons trouvé la transformation de fréquence pour une image dans la section précédente. Ainsi, nous pouvons maintenant effectuer certaines opérations dans le domaine de fréquence, comme le filtrage passe-haut (FPH) et reconstruire l’image en utilisant DFT inverse.\n",
        "\n",
        "Nous pouvons simplement supprimer les basses fréquences en masquant avec une fenêtre rectangulaire de taille 60x60. Ensuite,appliquer le décalage inverse en utilisant ifftshift() de sorte que le composant DC arrive à nouveau dans le coin supérieur gauche. Ensuite, on trouve la FFT inverse en utilisant la fonction ifft2(). Le résultat, encore une fois, sera un chiffre complexe. Nous pourons prendre sa valeur absolue."
      ]
    },
    {
      "cell_type": "markdown",
      "metadata": {
        "id": "kj8kfSb2rW10",
        "colab_type": "text"
      },
      "source": [
        "### Question 1\n",
        "\n",
        "**A faire :** Importer les donées d'une image.\n",
        "> Ou réutiliser les données de l'image utilisées dans l'exercice 1."
      ]
    },
    {
      "cell_type": "code",
      "metadata": {
        "id": "B4Jy3KkwrWwA",
        "colab_type": "code",
        "colab": {}
      },
      "source": [
        ""
      ],
      "execution_count": 0,
      "outputs": []
    },
    {
      "cell_type": "markdown",
      "metadata": {
        "id": "B78B98bArWpu",
        "colab_type": "text"
      },
      "source": [
        "### Question 2\n",
        "\n",
        "**A faire :** Récupérer les fréquences de l'image. Penser à centrer les fréquences.\n",
        "\n",
        "> Pour cette question, vous pouvez vous inspirer de l'exercice précédent."
      ]
    },
    {
      "cell_type": "code",
      "metadata": {
        "id": "M3XJPW_7rWi0",
        "colab_type": "code",
        "colab": {}
      },
      "source": [
        ""
      ],
      "execution_count": 0,
      "outputs": []
    },
    {
      "cell_type": "markdown",
      "metadata": {
        "id": "HZJguwYOrWch",
        "colab_type": "text"
      },
      "source": [
        "### Question 3\n",
        "\n",
        "**A faire :** Appliquer un filtrage Passe-Haut à l'aide d'un masque.\n",
        "\n",
        "Pour cette question voici le code qui permet de mettre le masque en place:\n",
        "```python\n",
        "# On récupère les dimension de l'image\n",
        "rows, cols = img.shape\n",
        "# On recupère les centres\n",
        "crow,ccol = rows/2 , cols/2\n",
        "\n",
        "# Application d'un masque Passe-Haut sur une fenêtre de 60x60\n",
        "fshift[int(crow-30):int(crow+30), int(ccol-30):int(ccol+30)] = 0\n",
        "```"
      ]
    },
    {
      "cell_type": "code",
      "metadata": {
        "id": "HjqulTHnrWVz",
        "colab_type": "code",
        "colab": {}
      },
      "source": [
        ""
      ],
      "execution_count": 0,
      "outputs": []
    },
    {
      "cell_type": "markdown",
      "metadata": {
        "id": "ymAz-O9XrWPk",
        "colab_type": "text"
      },
      "source": [
        "### Question 4\n",
        "\n",
        "**A faire :** Inverser le centrage des fréquences à l'aide de la fonction ```np.fft.ifftshift()```."
      ]
    },
    {
      "cell_type": "code",
      "metadata": {
        "id": "AREuR3B4rWId",
        "colab_type": "code",
        "colab": {}
      },
      "source": [
        ""
      ],
      "execution_count": 0,
      "outputs": []
    },
    {
      "cell_type": "markdown",
      "metadata": {
        "id": "poNBUGjIrWA5",
        "colab_type": "text"
      },
      "source": [
        "### Question 5\n",
        "\n",
        "**A faire :** Inverser le passage au domaine fréquentiel à l'aide de la fonction ```np.fft.ifft2()``` pour récupérer l'image.\n",
        "\n",
        "Le résultat étant sous forme complexe, on prend sa valeur absolue:\n",
        "```python\n",
        "img_back = np.abs(img_back)\n",
        "```"
      ]
    },
    {
      "cell_type": "code",
      "metadata": {
        "id": "cxdpSa4yrV5W",
        "colab_type": "code",
        "colab": {}
      },
      "source": [
        ""
      ],
      "execution_count": 0,
      "outputs": []
    },
    {
      "cell_type": "markdown",
      "metadata": {
        "id": "aat7QSf9rVst",
        "colab_type": "text"
      },
      "source": [
        "### Question 6\n",
        "\n",
        "**A faire :** Afficher l'image originale et l'image après filtrage (en nuances de gris).\n",
        "Pour mieux voir l'effet du filtre, afficher également l'image après filtrage en couleurs.\n",
        "\n",
        "**Question :** Quel a été l'effet du filtre sur l'image ?"
      ]
    },
    {
      "cell_type": "code",
      "metadata": {
        "id": "8JGYG2xf4JMI",
        "colab_type": "code",
        "colab": {}
      },
      "source": [
        ""
      ],
      "execution_count": 0,
      "outputs": []
    },
    {
      "cell_type": "markdown",
      "metadata": {
        "id": "WX6QvUEb41oU",
        "colab_type": "text"
      },
      "source": [
        "Le résultat montre Filtrage Pass-Haut est une opération de détection de bord. Cela montre également que la plupart des données de l’image sont présentes dans la région de basse fréquence du spectre.\n",
        "\n",
        "Si nous regardons le résultat de plus près, en particulier la dernière image, nous pouvons voir quelques artefacts qui montre quelques ondulations comme des structures,c'est appelé des effets de sonnerie. \n",
        "Ceci est causé par la fenêtre rectangulaire que nous avons utilisé appliquer le masque. Ce masque est converti en forme de sinus qui cause ce problème. Ainsi, les fenêtres rectangulaires ne sont pas utilisées pour le filtrage. Une meilleure option est la Gaussien Window."
      ]
    },
    {
      "cell_type": "markdown",
      "metadata": {
        "id": "he0fIRs75ubU",
        "colab_type": "text"
      },
      "source": [
        "# Exercice 3 : Floutage, application d'un Filtre Passe Bas sur l'image."
      ]
    },
    {
      "cell_type": "markdown",
      "metadata": {
        "id": "PazB8Dlis7hP",
        "colab_type": "text"
      },
      "source": [
        "### Question 1\n",
        "\n",
        "**A faire :** Importer les donées d'une image.\n",
        "Convertir ces données en float32 : \n",
        "```python\n",
        "img_float32 = np.float32(img)\n",
        "```"
      ]
    },
    {
      "cell_type": "code",
      "metadata": {
        "id": "6n_99ixKs7bl",
        "colab_type": "code",
        "colab": {}
      },
      "source": [
        ""
      ],
      "execution_count": 0,
      "outputs": []
    },
    {
      "cell_type": "markdown",
      "metadata": {
        "id": "LG9a3tjys7UP",
        "colab_type": "text"
      },
      "source": [
        "### Question 2\n",
        "\n",
        "**A faire :** Appliquer une dft sur l'image à l'aide de la fonction ```cv2.dft()```\n",
        "```python\n",
        "dft = cv2.dft(img_float32, flags = cv2.DFT_COMPLEX_OUTPUT)\n",
        "```\n",
        "\n",
        "> A noter, ici on utilise pas la FFT mais la DFT : Discret Fourier Transform"
      ]
    },
    {
      "cell_type": "code",
      "metadata": {
        "id": "aQKx_kXWs7Ox",
        "colab_type": "code",
        "colab": {}
      },
      "source": [
        ""
      ],
      "execution_count": 0,
      "outputs": []
    },
    {
      "cell_type": "markdown",
      "metadata": {
        "id": "m8g_A-Ujs7Gg",
        "colab_type": "text"
      },
      "source": [
        "\n",
        "### Question 3\n",
        "\n",
        "**A faire :** Centrer les fréquences, et appliquer un filtrage Passe-Bas à l'aide d'un masque.\n",
        "\n",
        "Pour cette question voici le code qui permet de mettre le masque en place:\n",
        "```python\n",
        "# On récupère les dimension de l'image\n",
        "rows, cols = img.shape\n",
        "# On recupère les centres\n",
        "crow,ccol = rows/2 , cols/2\n",
        "\n",
        "# Création su masque\n",
        "mask = np.zeros((rows,cols,2), np.uint8)\n",
        "mask[int(crow-30):int(crow+30), int(ccol-30):int(ccol+30)] = 1\n",
        "\n",
        "# Application du masque\n",
        "fshift = dft_shift*mask\n",
        "```"
      ]
    },
    {
      "cell_type": "code",
      "metadata": {
        "id": "TgiBzuuJs6__",
        "colab_type": "code",
        "colab": {}
      },
      "source": [
        ""
      ],
      "execution_count": 0,
      "outputs": []
    },
    {
      "cell_type": "markdown",
      "metadata": {
        "id": "cUu_A8VSs6Lb",
        "colab_type": "text"
      },
      "source": [
        "### Question 4\n",
        "\n",
        "**A faire :** Inverser le centrage des fréquences à l'aide de la fonction ```np.fft.ifftshift()```."
      ]
    },
    {
      "cell_type": "code",
      "metadata": {
        "id": "W7gFheUhs6SM",
        "colab_type": "code",
        "colab": {}
      },
      "source": [
        ""
      ],
      "execution_count": 0,
      "outputs": []
    },
    {
      "cell_type": "markdown",
      "metadata": {
        "id": "P8xuZiw6s6X6",
        "colab_type": "text"
      },
      "source": [
        "### Question 5\n",
        "\n",
        "**A faire :** Inverser la DFT à l'aide de la fonction ```cv2.idft()```.\n",
        "Ensuite, on fini de rétablie l'image avec la fonction suivante :\n",
        "```python\n",
        "img_back = cv2.magnitude(img_back[:,:,0],img_back[:,:,1])\n",
        "```"
      ]
    },
    {
      "cell_type": "code",
      "metadata": {
        "id": "_bRECxUttscQ",
        "colab_type": "code",
        "colab": {}
      },
      "source": [
        ""
      ],
      "execution_count": 0,
      "outputs": []
    },
    {
      "cell_type": "markdown",
      "metadata": {
        "id": "tXW5R5KjtLPx",
        "colab_type": "text"
      },
      "source": [
        "### Question 6\n",
        "\n",
        "**A faire :** Afficher l'image originale et l'image après filtrage (en nuances de gris).\n",
        "\n",
        "**Question :** Quel a été l'effet du filtre sur l'image ?"
      ]
    },
    {
      "cell_type": "markdown",
      "metadata": {
        "id": "slTrmLZT7q7P",
        "colab_type": "text"
      },
      "source": [
        "On applique le masque :"
      ]
    },
    {
      "cell_type": "code",
      "metadata": {
        "id": "Vf3RLy-Z63bB",
        "colab_type": "code",
        "colab": {}
      },
      "source": [
        ""
      ],
      "execution_count": 0,
      "outputs": []
    }
  ]
}