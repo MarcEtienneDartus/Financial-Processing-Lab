{
  "nbformat": 4,
  "nbformat_minor": 0,
  "metadata": {
    "colab": {
      "name": "moving_average.ipynb",
      "provenance": []
    },
    "kernelspec": {
      "name": "python3",
      "display_name": "Python 3"
    }
  },
  "cells": [
    {
      "cell_type": "markdown",
      "metadata": {
        "id": "QGlBGA33TyN0",
        "colab_type": "text"
      },
      "source": [
        "# Les moyennes mobiles"
      ]
    },
    {
      "cell_type": "markdown",
      "metadata": {
        "id": "Wf9TV8RETyrB",
        "colab_type": "text"
      },
      "source": [
        "## Mise en place des bibliothèques"
      ]
    },
    {
      "cell_type": "code",
      "metadata": {
        "id": "Lp_c6lmGTy8H",
        "colab_type": "code",
        "colab": {}
      },
      "source": [
        "import pandas as pd\n",
        "import numpy as np\n",
        "import datetime\n",
        "import pandas_datareader.data as web\n",
        "import matplotlib.pyplot as plt"
      ],
      "execution_count": 0,
      "outputs": []
    },
    {
      "cell_type": "markdown",
      "metadata": {
        "id": "xb5Z36p6T4Qt",
        "colab_type": "text"
      },
      "source": [
        "## Mise en place des données\n",
        "\n",
        "**A faire :**\n",
        "- On defini les dates de début et de fin de notre échantillon\n",
        "- On récupère les données de yahoo via la fonction `web.datareader`\n",
        "- On récupère les prix de cloture du marché sous forme de liste"
      ]
    },
    {
      "cell_type": "code",
      "metadata": {
        "id": "YlTOe9esT6kQ",
        "colab_type": "code",
        "colab": {}
      },
      "source": [
        ""
      ],
      "execution_count": 0,
      "outputs": []
    },
    {
      "cell_type": "markdown",
      "metadata": {
        "id": "HsEZJixAT7Mv",
        "colab_type": "text"
      },
      "source": [
        "## Mise en place du filtre à moyenne mobile\n",
        "\n",
        "**A faire :**\n",
        "- Mettre en place la fonction moyenne_mobile()\n"
      ]
    },
    {
      "cell_type": "code",
      "metadata": {
        "id": "fPJr8cTLUIes",
        "colab_type": "code",
        "colab": {}
      },
      "source": [
        "def moyenne_mobile(liste, ordre):\n",
        "    pass"
      ],
      "execution_count": 0,
      "outputs": []
    },
    {
      "cell_type": "markdown",
      "metadata": {
        "id": "dQ3ulOqxTgSF",
        "colab_type": "text"
      },
      "source": [
        "## Mise en application du filtre à Moyenne mobile\n",
        "\n",
        "**A faire :**\n",
        "- Récuperer la moyenne mobile de notre asset\n",
        "- Afficher le graph de la moyenne mobile superposé aux prix de l'asset\n",
        "\n",
        "> Les ranges de données ne sont pas de la même taille, plus l'ordre de votre moyenne mobile est grand plus l'écart entre le nombre data et la moyenne sera important.\n"
      ]
    },
    {
      "cell_type": "code",
      "metadata": {
        "id": "YRF8eAwjUA8j",
        "colab_type": "code",
        "colab": {}
      },
      "source": [
        ""
      ],
      "execution_count": 0,
      "outputs": []
    }
  ]
}