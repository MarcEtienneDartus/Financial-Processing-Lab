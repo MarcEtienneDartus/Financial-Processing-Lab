{
  "nbformat": 4,
  "nbformat_minor": 0,
  "metadata": {
    "colab": {
      "name": "discreet_signalipynb",
      "provenance": [],
      "collapsed_sections": []
    },
    "kernelspec": {
      "name": "python3",
      "display_name": "Python 3"
    }
  },
  "cells": [
    {
      "cell_type": "markdown",
      "metadata": {
        "id": "DqLNUFFmNK4D",
        "colab_type": "text"
      },
      "source": [
        "# Les signaux discrets"
      ]
    },
    {
      "cell_type": "markdown",
      "metadata": {
        "id": "kR1iTbMZoW4G",
        "colab_type": "text"
      },
      "source": [
        "## Importation\n",
        "\n",
        "Les bibliothèques à importer"
      ]
    },
    {
      "cell_type": "code",
      "metadata": {
        "id": "bDeRZG4eoSbb",
        "colab_type": "code",
        "colab": {}
      },
      "source": [
        "import numpy as np\n",
        "import matplotlib.pyplot as plt\n",
        "from numpy.fft import fft"
      ],
      "execution_count": 0,
      "outputs": []
    },
    {
      "cell_type": "markdown",
      "metadata": {
        "id": "qNdb5_nDpHWe",
        "colab_type": "text"
      },
      "source": [
        "## EXERCICE 1\n",
        "\n",
        "### Echantillonnage\n",
        "\n",
        "\n",
        "*   Créer un signal simple (un sinus ou cosinus), de fréquence f = 1. On peut utiliser np.pi qui permet de modifier le modulo de la fonction\n",
        "*   Définir une durée (2 périodes) ainsi qu'une fréquence d'échantillonnage (fe)\n",
        "*   Placer les points du signal échantillonné (on utilise la fonction np.linspace)\n",
        "*   Tracer et affiche le signal échantillonné et le signal réel à l'aide de plt.plot\n",
        "*   ATTENTION à respecter le théorème de Shannon: `f < fe/2`\n",
        "\n",
        "\n",
        "\n",
        "\n",
        "\n",
        "\n"
      ]
    },
    {
      "cell_type": "code",
      "metadata": {
        "id": "hPgpzhdXqwBL",
        "colab_type": "code",
        "colab": {}
      },
      "source": [
        ""
      ],
      "execution_count": 0,
      "outputs": []
    },
    {
      "cell_type": "markdown",
      "metadata": {
        "id": "4UyS3IDPq-h9",
        "colab_type": "text"
      },
      "source": [
        "### Importance du théorème de Shannon-Nyquist\n",
        "\n",
        "Le théorème de Shannon Nyquist indique que la fréquence f du signal (ou celles de ses composantes) doit vérifier:  `f<fe/2`\n",
        "\n",
        "*   Utiliser le même signal que précédemment\n",
        "*   Essayer un échantillonnage qui ne respecte pas ce théorème, fe ne doit pas respecter l'égalité précédente\n",
        "*   Visualiser les deux siganux (échantilloné et réel)\n",
        "*   Analyser le conséquences du non respect de ce théorème, quel impact a-t-il ?\n",
        "\n"
      ]
    },
    {
      "cell_type": "code",
      "metadata": {
        "id": "TphN_U6EygXG",
        "colab_type": "code",
        "colab": {}
      },
      "source": [
        ""
      ],
      "execution_count": 0,
      "outputs": []
    },
    {
      "cell_type": "markdown",
      "metadata": {
        "id": "b-4htfzl2bLv",
        "colab_type": "text"
      },
      "source": [
        "## EXERCICE 2\n",
        "\n",
        "### Sampler une fonction periodique et sa TFD\n",
        "\n",
        "*  Créer un signal `y(t) = 0.1 + cos(2*pi*t)+0.5*cos(2*2*pi*t)\\+0.25*sin(6*pi*t)+0.01*sin(8*pi*t)`, avec la période égale à 1 (T)\n",
        "*  Ajuster la durée D >> T (la période)\n",
        "*  Poser et initialiser Fe, la fréquence d'échantillonnage\n",
        "*  Calculer la transformée de Fourier discrète puis sa norme (spectre) en utilisant `np.fft`\n",
        "*  Construire l'échelle des fréquences. L'espacement de deux points de la TFD est l'inverse de la durée T\n",
        "*  Tracer le spectre pour des fréquences allant de zéro à la moitié de Fe"
      ]
    },
    {
      "cell_type": "code",
      "metadata": {
        "id": "OqNzvkfi2897",
        "colab_type": "code",
        "colab": {}
      },
      "source": [
        ""
      ],
      "execution_count": 0,
      "outputs": []
    },
    {
      "cell_type": "markdown",
      "metadata": {
        "id": "PEhNZrFvBd6w",
        "colab_type": "text"
      },
      "source": [
        "## EXERCICE 3\n",
        "\n",
        "### Travail sur les différentes représentation\n",
        "\n",
        "*  Afficher la représentation en décibel du signal précédent afin de rendre visible l'harmonique de rang 4"
      ]
    },
    {
      "cell_type": "code",
      "metadata": {
        "id": "soaEM0O-BuVM",
        "colab_type": "code",
        "colab": {}
      },
      "source": [
        ""
      ],
      "execution_count": 0,
      "outputs": []
    },
    {
      "cell_type": "markdown",
      "metadata": {
        "id": "FodjYjbpCyVH",
        "colab_type": "text"
      },
      "source": [
        "*  Ajouter des zéros avant et après le signal pour avoir une représentation propre"
      ]
    },
    {
      "cell_type": "code",
      "metadata": {
        "id": "Pt3JGX-4DCe9",
        "colab_type": "code",
        "colab": {}
      },
      "source": [
        ""
      ],
      "execution_count": 0,
      "outputs": []
    },
    {
      "cell_type": "markdown",
      "metadata": {
        "id": "Vu4RtIeMDZ4E",
        "colab_type": "text"
      },
      "source": [
        "*  Montrer la raie du fondamental"
      ]
    },
    {
      "cell_type": "code",
      "metadata": {
        "id": "k6aFhRvuDdUz",
        "colab_type": "code",
        "colab": {}
      },
      "source": [
        ""
      ],
      "execution_count": 0,
      "outputs": []
    }
  ]
}