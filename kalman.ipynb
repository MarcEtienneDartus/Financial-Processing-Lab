{
  "nbformat": 4,
  "nbformat_minor": 0,
  "metadata": {
    "colab": {
      "name": "kalman.ipynb",
      "provenance": []
    },
    "kernelspec": {
      "name": "python3",
      "display_name": "Python 3"
    }
  },
  "cells": [
    {
      "cell_type": "markdown",
      "metadata": {
        "id": "Bsm6sUP8V_d2",
        "colab_type": "text"
      },
      "source": [
        "# Exercice sur Kalman"
      ]
    },
    {
      "cell_type": "markdown",
      "metadata": {
        "id": "fiaQiWqCVcyO",
        "colab_type": "text"
      },
      "source": [
        "## Configuration"
      ]
    },
    {
      "cell_type": "code",
      "metadata": {
        "id": "hwoA1vRqV4m1",
        "colab_type": "code",
        "colab": {}
      },
      "source": [
        "from numpy import *\n",
        "from numpy.linalg import inv, det\n",
        "from numpy import random\n",
        "from numpy import dot"
      ],
      "execution_count": 0,
      "outputs": []
    },
    {
      "cell_type": "markdown",
      "metadata": {
        "id": "qAI8vxpvV2jr",
        "colab_type": "text"
      },
      "source": [
        "## Prédiction\n",
        "\n",
        "Cette étape doit prédire la moyenne X et la covariance P de l’état du système au moment k.\n",
        "La fonction Python kf_predict effectue la prédiction de X et P en prenant en compte 6 input.\n",
        "\n",
        "On a :\n",
        "\n",
        "- **X** : la moyenne estimée du système à l’étape précédente i.e k-1\n",
        "- **P** : La covariance du système à l’étape précédente\n",
        "- **A** : La matrice n*n de transition\n",
        "- **Q** : La matrice de covariance du bruit du processus\n",
        "- **B** : Matrice d’effet de l’input\n",
        "- **U** : Input de contrôle\n",
        "\n",
        "Ainsi le code Python de la prédiction est :"
      ]
    },
    {
      "cell_type": "code",
      "metadata": {
        "id": "-HFH0jSeV0iZ",
        "colab_type": "code",
        "colab": {}
      },
      "source": [
        "def kf_predict(X, P, A, Q, B, U):\n",
        "    X = dot(A, X) + dot(B, U)\n",
        "    P = dot(A, dot(P, A.T)) + Q\n",
        "    return(X,P)"
      ],
      "execution_count": 0,
      "outputs": []
    },
    {
      "cell_type": "markdown",
      "metadata": {
        "id": "HElipx21Vxiq",
        "colab_type": "text"
      },
      "source": [
        "## Mise à jour\n",
        "\n",
        "Au moment k, cette mise à jour calcule la moyenne postérieure X et la covariance P de l’état du système en prenant en compte une nouvelle mesure Y. La fonction Python kf_update effectue la mise à jour de X et P donnant les matrice X et P prédites, le vecteur Y, la matrice H de la mesure et la covariance R de la mesure. \n",
        "\n",
        "On a donc les input suivants :\n",
        "- **K** : la matrice de Gain de Kalman\n",
        "- **IM** : la moyenne de la distribution prédite de Y\n",
        "- **IS** : la covariance de Y\n",
        "- **LH** : La probabilité de mesure, qui est donnée par la fonction gauss_pdf\n",
        "\n",
        "Ainsi on a le code Python suivant :"
      ]
    },
    {
      "cell_type": "code",
      "metadata": {
        "id": "2mI0o0X4VuWf",
        "colab_type": "code",
        "colab": {}
      },
      "source": [
        "def gauss_pdf(X, M, S):\n",
        "    if M.shape[1] == 1:\n",
        "        DX = X - tile(M, X.shape[1])\n",
        "        E = 0.5 * sum(DX * (dot(inv(S), DX)), axis=0)\n",
        "        E = E + 0.5 * M.shape[0] * log(2 * pi) + 0.5 * log(det(S))\n",
        "        P = exp(-E)\n",
        "    elif X.shape[1] == 1:\n",
        "        DX = tile(X, M.shape()[1])- M\n",
        "        E = 0.5 * sum(DX * (dot(inv(S), DX)), axis=0)\n",
        "        E = E + 0.5 * M.shape[0] * log(2 * pi) + 0.5 * log(det(S))\n",
        "        P = exp(-E)\n",
        "    else:\n",
        "        DX = X-M\n",
        "        E = 0.5 * dot(DX.T, dot(inv(S), DX))\n",
        "        E = E + 0.5 * M.shape[0] * log(2 * pi) + 0.5 * log(det(S))\n",
        "        P = exp(-E)\n",
        "    return (P[0],E[0]) "
      ],
      "execution_count": 0,
      "outputs": []
    },
    {
      "cell_type": "code",
      "metadata": {
        "id": "QdLvN-DHVq3o",
        "colab_type": "code",
        "colab": {}
      },
      "source": [
        "def kf_update(X, P, Y, H, R):\n",
        "    IM = dot(H, X)\n",
        "    IS = R + dot(H, dot(P, H.T))\n",
        "    K = dot(P, dot(H.T, inv(IS)))\n",
        "    X = X + dot(K, (Y-IM))\n",
        "    P = P - dot(K, dot(IS, K.T))\n",
        "    LH = gauss_pdf(Y, IM, IS)\n",
        "    return (X,P,K,IM,IS,LH)"
      ],
      "execution_count": 0,
      "outputs": []
    },
    {
      "cell_type": "markdown",
      "metadata": {
        "id": "dCrv4RwmVnno",
        "colab_type": "text"
      },
      "source": [
        "# Application numérique\n",
        "\n",
        "Comme il a été expliqué plus tôt, le domaine d'application le plus intéressant du filtre de Kalman, dans les télécommunications, est la localisation d'un utilisateur mobile connecté à un réseau sans fil. \n",
        "\n",
        "Dans cette section, nous présenterons un algorithme simple de suivi d'un utilisateur mobile qui se déplace dans une pièce et qui est connecté à au moins trois antennes sans fil.   \n",
        "\n",
        "La matrice de mesure Y décrit la position estimée du mobile à l'aide d'un algorithme basé sur une estimation des moindres carrés et la connaissance d'au moins trois valeurs de l'heure d'arrivée (ToA) au temps k. Ces valeurs sont calculées à l'aide de procédures de télémétrie entre le mobile et les trois antennes.  \n",
        "\n",
        "En commençant par une initialisation de différentes matrices et en utilisant les matrices mises à jour pour chaque étape et itération, il faut la trajectoire estimée et réelle de l'utilisateur du mobile, et les mesures effectuées par la trilatération basée sur les moindres carrés. Nous montrons ici que le filtre de Kalman améliore la précision de la trajectoire par rapport à l'estimation statique basée sur les moindres carrés.  \n",
        "\n",
        "En appliquant le code Python du filtre de Kalman donné dans le cours, trouvez et tracer la trajectoire prédite de l’utilisateur.  Afin de simplifier la compréhension de ce code, nous dessinons la matrice Yrandomly centrée sur la valeur réelle de la position du mobile."
      ]
    },
    {
      "cell_type": "markdown",
      "metadata": {
        "id": "KsciKQs8Vjca",
        "colab_type": "text"
      },
      "source": [
        "### Initilisation"
      ]
    },
    {
      "cell_type": "code",
      "metadata": {
        "id": "wYp9mAMMVgHU",
        "colab_type": "code",
        "colab": {}
      },
      "source": [
        "#time step of mobile movement\n",
        "dt = 0.1 \n",
        "\n",
        "# Initialisation des matrices \n",
        "X = array([[0.0], [0.0], [0.1], [0.1]])\n",
        "P = diag((0.01, 0.01, 0.01, 0.01))\n",
        "A = array([[1,0, dt, 0], [0,1,0,dt],[0,0,1,0],[0,0,0,1]])\n",
        "Q = eye(X.shape[0])\n",
        "B = eye(X.shape[0])\n",
        "U = zeros((X.shape[0],1))\n",
        "\n",
        "# Matrice de mesure \n",
        "Y = array([[X[0,0]+ abs(random.randn(1)[0])], [X[1,0]+abs(random.randn(1)[0])]])\n",
        "H = array([[1,0,0,0],[0,1,0,0]])\n",
        "R = eye(Y.shape[0])\n",
        "\n",
        "# Nombre d'itérations dans le filtre de Kalman \n",
        "N_iter = 50"
      ],
      "execution_count": 0,
      "outputs": []
    },
    {
      "cell_type": "code",
      "metadata": {
        "id": "OC1BVysqVgwr",
        "colab_type": "code",
        "colab": {}
      },
      "source": [
        ""
      ],
      "execution_count": 0,
      "outputs": []
    }
  ]
}